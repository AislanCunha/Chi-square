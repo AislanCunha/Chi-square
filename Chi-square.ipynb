{
 "cells": [
  {
   "cell_type": "markdown",
   "id": "9b16a1a7",
   "metadata": {},
   "source": [
    "# Chi-square test"
   ]
  },
  {
   "cell_type": "markdown",
   "id": "8396e3f2",
   "metadata": {},
   "source": [
    "### First - Import the libraries"
   ]
  },
  {
   "cell_type": "code",
   "execution_count": 1,
   "id": "3abcf4e5",
   "metadata": {},
   "outputs": [],
   "source": [
    "import scipy.stats as stats\n",
    "import pandas as pd\n",
    "import numpy as np\n",
    "from scipy.stats import chisquare"
   ]
  },
  {
   "cell_type": "markdown",
   "id": "010e1234",
   "metadata": {},
   "source": [
    "### Second - import the data"
   ]
  },
  {
   "cell_type": "code",
   "execution_count": 2,
   "id": "e6d9566a",
   "metadata": {},
   "outputs": [
    {
     "name": "stdout",
     "output_type": "stream",
     "text": [
      "    sex_smoker    OMS_Region\n",
      "0         male        Africa\n",
      "1         male        Africa\n",
      "2         male        Africa\n",
      "3         male        Africa\n",
      "4         male        Africa\n",
      "..         ...           ...\n",
      "246       male  western_paci\n",
      "247     female  western_paci\n",
      "248     female  western_paci\n",
      "249     female  western_paci\n",
      "250     female  western_paci\n",
      "\n",
      "[251 rows x 2 columns]\n"
     ]
    }
   ],
   "source": [
    "df = pd.read_csv('data_inf_20.csv')\n",
    "print (df)"
   ]
  },
  {
   "cell_type": "markdown",
   "id": "b88e8f04",
   "metadata": {},
   "source": [
    "### Third - take the Chi-square test"
   ]
  },
  {
   "cell_type": "code",
   "execution_count": 3,
   "id": "ebd1b699",
   "metadata": {},
   "outputs": [],
   "source": [
    "fum_region = pd.crosstab(df['sex_smoker'], df['OMS_Region'])"
   ]
  },
  {
   "cell_type": "code",
   "execution_count": 17,
   "id": "6ae34abf",
   "metadata": {},
   "outputs": [
    {
     "name": "stdout",
     "output_type": "stream",
     "text": [
      "OMS_Region  Africa  America  Europe  east_medit  south_asia  western_paci\n",
      "sex_smoker                                                               \n",
      "female           3       14      20           3           3             4\n",
      "male            22       24      40          36          33            49\n"
     ]
    }
   ],
   "source": [
    "print(fum_region)"
   ]
  },
  {
   "cell_type": "code",
   "execution_count": 18,
   "id": "6a9e4d1f",
   "metadata": {},
   "outputs": [
    {
     "name": "stdout",
     "output_type": "stream",
     "text": [
      "The test value Chi-square = 27.376790269239592\n",
      "The p_value = 4.816922405607475e-05\n"
     ]
    }
   ],
   "source": [
    "chi, p_value, dof, exp = stats.chi2_contingency(fum_region)\n",
    "print (\"The test value Chi-square = \" + str(chi))\n",
    "print (\"The p_value = \" + str(p_value))"
   ]
  },
  {
   "cell_type": "markdown",
   "id": "f378a6fd",
   "metadata": {},
   "source": [
    "### Conclusion"
   ]
  },
  {
   "cell_type": "code",
   "execution_count": 16,
   "id": "af60f966",
   "metadata": {},
   "outputs": [
    {
     "name": "stdout",
     "output_type": "stream",
     "text": [
      "The test presented with 95% confidence that the data from smokers are associated. Rejecting the null hypothesis and accepting the alternative hypothesis.\n"
     ]
    }
   ],
   "source": [
    "if p_value > 0.05:\n",
    "    print(\"The test presented with 95% confidence that the data from smokers are not associated. Accepting the null hypothesis and Rejecting the alternative hypothesis.\")\n",
    "else:\n",
    "    print(\"The test presented with 95% confidence that the data from smokers are associated. Rejecting the null hypothesis and accepting the alternative hypothesis.\")"
   ]
  },
  {
   "cell_type": "code",
   "execution_count": null,
   "id": "f1e2196b",
   "metadata": {},
   "outputs": [],
   "source": []
  }
 ],
 "metadata": {
  "kernelspec": {
   "display_name": "Python 3 (ipykernel)",
   "language": "python",
   "name": "python3"
  },
  "language_info": {
   "codemirror_mode": {
    "name": "ipython",
    "version": 3
   },
   "file_extension": ".py",
   "mimetype": "text/x-python",
   "name": "python",
   "nbconvert_exporter": "python",
   "pygments_lexer": "ipython3",
   "version": "3.9.7"
  }
 },
 "nbformat": 4,
 "nbformat_minor": 5
}
